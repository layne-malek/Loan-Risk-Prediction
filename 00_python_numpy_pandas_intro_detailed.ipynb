{
 "cells": [
  {
   "cell_type": "markdown",
   "id": "b0b11bc6",
   "metadata": {},
   "source": [
    "# 00 — Python, NumPy, and Pandas (Beginner‑Friendly, with TODOs)\n",
    "\n",
    "Welcome to the **Loan Risk Prediction** project!  \n",
    "This notebook is designed for students who may be brand‑new to Python. We go **slowly** and explain **why** things work, not just **how**.\n",
    "\n",
    "**How to use this notebook**\n",
    "- Read the notes in each section.\n",
    "- Run the examples.\n",
    "- Complete the **TODO** blocks. They’re short practices to build your muscle memory.\n",
    "- If you get stuck, read the example right above the TODO again.\n",
    "\n",
    "> Tip: You can run a cell with **Shift + Enter** in Jupyter."
   ]
  },
  {
   "cell_type": "markdown",
   "id": "2799b90a",
   "metadata": {},
   "source": [
    "## Table of Contents\n",
    "1. Python Basics: Variables, Types, Printing, Input, Comments\n",
    "2. Numbers, Strings, Booleans, `None`\n",
    "3. Collections: Lists, Tuples, Sets, Dicts\n",
    "4. Control Flow: `if`, `for`, `while`, `break`, `continue`, ternary\n",
    "5. Functions: `def`, parameters, return values, docstrings, type hints\n",
    "6. Modules & Imports: `import`, `from ... import ...`, `as`\n",
    "7. Errors & Exceptions: try/except, raising errors, assertions\n",
    "8. NumPy Essentials: arrays, dtypes, shapes, indexing, slicing, broadcasting, masking\n",
    "9. Random, Aggregations & Stats: `np.random`, `np.mean`, `np.std`, etc.\n",
    "10. Pandas Essentials: Series & DataFrame, reading CSV, inspecting, selecting, filtering\n",
    "11. Handling Missing Data, Dtypes, Dates, String Ops\n",
    "12. GroupBy, Aggregation, Sorting, `value_counts`\n",
    "13. Merging/Joining DataFrames\n",
    "14. Exporting, Reproducibility & Project Tips\n",
    "\n",
    "Each section ends with **TODO** practice."
   ]
  },
  {
   "cell_type": "markdown",
   "id": "f02071df",
   "metadata": {},
   "source": [
    "## 1) Python Basics\n",
    "\n",
    "**Concepts**  \n",
    "- **Variables** store values: `x = 5`  \n",
    "- **Names**: letters, digits, underscores; **cannot** start with a digit. Case‑sensitive (`score` vs `Score`).  \n",
    "- **Comments**: start with `#` and are ignored by Python.  \n",
    "- **Printing**: `print(...)` displays values.  \n",
    "- **Input** (optional here): `input()` reads user text (we rarely use it in data science notebooks).\n",
    "\n",
    "**Pro tip:** In notebooks, the **last expression** in a cell will display automatically. Use `print()` when you want explicit output anywhere."
   ]
  },
  {
   "cell_type": "code",
   "execution_count": null,
   "id": "9aa3a4f7",
   "metadata": {},
   "outputs": [],
   "source": [
    "# Examples\n",
    "x = 5        # integer\n",
    "y = 2.5      # float\n",
    "name = \"Ray\" # string\n",
    "is_ok = True # boolean\n",
    "\n",
    "print(\"x:\", x, \"y:\", y, \"name:\", name, \"is_ok:\", is_ok)\n",
    "\n",
    "# The last line in a cell is echoed if it's an expression:\n",
    "x + y"
   ]
  },
  {
   "cell_type": "markdown",
   "id": "eb2c62d8",
   "metadata": {},
   "source": [
    "### ✅ TODO 1 — Variables & Printing\n",
    "1. Create variables: `a` (int), `b` (float), `msg` (string), `flag` (bool).\n",
    "2. Print them in a single line like: `a=..., b=..., msg=..., flag=...`.\n",
    "3. Try changing values and running again."
   ]
  },
  {
   "cell_type": "code",
   "execution_count": null,
   "id": "814f8776",
   "metadata": {},
   "outputs": [],
   "source": [
    "# TODO 1 — Your code here"
   ]
  },
  {
   "cell_type": "markdown",
   "id": "a52ae955",
   "metadata": {},
   "source": [
    "## 2) Numbers, Strings, Booleans, and `None`\n",
    "\n",
    "- **int**: whole numbers, e.g., `42`\n",
    "- **float**: decimals, e.g., `3.14`\n",
    "- **bool**: `True` or `False`\n",
    "- **None**: \"empty\" or \"no value yet\" placeholder\n",
    "\n",
    "**Common string operations**  \n",
    "- Concatenate: `\"Hello \" + \"World\"`  \n",
    "- f-string (preferred): `f\"Hello {name}\"`  \n",
    "- Length: `len(\"abc\")`  \n",
    "- Methods: `\"loan\".upper()`, `\" LOAN \".strip()`, `\"loan-risk\".replace(\"-\", \" \")`"
   ]
  },
  {
   "cell_type": "code",
   "execution_count": null,
   "id": "5e75077f",
   "metadata": {},
   "outputs": [],
   "source": [
    "# Examples\n",
    "pi = 3.14159\n",
    "count = 12\n",
    "statement = f\"We have {count} samples and PI ~ {pi:.2f}\"\n",
    "upper = \"loan\".upper()\n",
    "repl = \"loan-risk\".replace(\"-\", \" \")\n",
    "length = len(\"default\")\n",
    "\n",
    "print(statement)\n",
    "print(\"upper:\", upper, \"| repl:\", repl, \"| length:\", length)\n",
    "\n",
    "nothing = None\n",
    "print(\"nothing is\", nothing)"
   ]
  },
  {
   "cell_type": "markdown",
   "id": "96639531",
   "metadata": {},
   "source": [
    "### ✅ TODO 2 — Strings & Numbers\n",
    "1. Make a string with your name and favorite number, using an **f-string**.\n",
    "2. Use `.upper()` and `.replace()` on any string you create.\n",
    "3. Create a variable `mystery = None` and print it."
   ]
  },
  {
   "cell_type": "code",
   "execution_count": null,
   "id": "dd8910a5",
   "metadata": {},
   "outputs": [],
   "source": [
    "# TODO 2 — Your code here"
   ]
  },
  {
   "cell_type": "markdown",
   "id": "480c9afe",
   "metadata": {},
   "source": [
    "## 3) Collections: Lists, Tuples, Sets, Dicts\n",
    "\n",
    "- **List `[]`**: ordered, changeable collection. Great general container.  \n",
    "  - Indexing: `nums[0]`, slicing: `nums[1:3]`, append: `nums.append(10)`\n",
    "- **Tuple `()`**: ordered, **immutable** (can't change). Useful for \"fixed packets\" of data.\n",
    "- **Set `{}`**: **unique**, unordered elements; fast membership tests, set operations.\n",
    "- **Dict `{key: value}`**: mapping from keys to values. Keys usually strings.\n",
    "\n",
    "Why care? You’ll use **lists** and **dicts** constantly when massaging data **before** turning it into tables."
   ]
  },
  {
   "cell_type": "code",
   "execution_count": null,
   "id": "10ec5f7a",
   "metadata": {},
   "outputs": [],
   "source": [
    "# Examples\n",
    "nums = [3, 1, 4]\n",
    "nums.append(1)\n",
    "print(\"list nums:\", nums, \"| slice nums[1:3]:\", nums[1:3])\n",
    "\n",
    "point = (10, 20)  # tuple\n",
    "print(\"tuple point:\", point)\n",
    "\n",
    "unique = {1, 1, 2, 3}\n",
    "print(\"set unique:\", unique, \"| 2 in unique?\", 2 in unique)\n",
    "\n",
    "row = {\"Loan ID\": 123, \"Amount\": 5000, \"Status\": \"Current\"}\n",
    "print(\"dict row:\", row, \"| keys:\", list(row.keys()))"
   ]
  },
  {
   "cell_type": "markdown",
   "id": "93dc381c",
   "metadata": {},
   "source": [
    "### ✅ TODO 3 — Practice Collections\n",
    "1. Make a list of three loan amounts. Append one more amount.\n",
    "2. Create a set from that list (notice duplicates vanish).\n",
    "3. Create a dict with keys: `\"Customer ID\"`, `\"Term\"`, `\"Home Ownership\"` and fill in any values."
   ]
  },
  {
   "cell_type": "code",
   "execution_count": null,
   "id": "165752ec",
   "metadata": {},
   "outputs": [],
   "source": [
    "# TODO 3 — Your code here"
   ]
  },
  {
   "cell_type": "markdown",
   "id": "e748b448",
   "metadata": {},
   "source": [
    "## 4) Control Flow: `if`, `for`, `while`, `break`, `continue`, ternary\n",
    "\n",
    "- `if/elif/else` chooses a path.\n",
    "- `for` loops across items.\n",
    "- `while` repeats while a condition is true.\n",
    "- `break` exits a loop early; `continue` skips to next iteration.\n",
    "- Ternary: `x = A if condition else B` (compact if/else for expressions)."
   ]
  },
  {
   "cell_type": "code",
   "execution_count": null,
   "id": "e678d700",
   "metadata": {},
   "outputs": [],
   "source": [
    "# Examples\n",
    "score = 72\n",
    "if score >= 90:\n",
    "    grade = \"A\"\n",
    "elif score >= 80:\n",
    "    grade = \"B\"\n",
    "elif score >= 70:\n",
    "    grade = \"C\"\n",
    "else:\n",
    "    grade = \"D\"\n",
    "print(\"grade:\", grade)\n",
    "\n",
    "# for loop\n",
    "total = 0\n",
    "for n in [1, 2, 3]:\n",
    "    total += n\n",
    "print(\"total:\", total)\n",
    "\n",
    "# while with break\n",
    "i = 0\n",
    "while True:\n",
    "    i += 1\n",
    "    if i == 3:\n",
    "        break\n",
    "print(\"i after loop:\", i)\n",
    "\n",
    "# ternary\n",
    "risk = \"high\" if score < 70 else \"low\"\n",
    "print(\"risk:\", risk)"
   ]
  },
  {
   "cell_type": "markdown",
   "id": "b483ad86",
   "metadata": {},
   "source": [
    "### ✅ TODO 4 — Loops & Conditions\n",
    "1. Given `amounts = [500, 1200, 3000, 250]`, make a new list containing only amounts ≥ 500 using a `for` loop and `if`.\n",
    "2. Compute the sum of the filtered list.\n",
    "3. Use a ternary expression to set `flag = \"big\"` if the sum ≥ 2000 else `\"small\"`."
   ]
  },
  {
   "cell_type": "code",
   "execution_count": null,
   "id": "c6c4733d",
   "metadata": {},
   "outputs": [],
   "source": [
    "# TODO 4 — Your code here"
   ]
  },
  {
   "cell_type": "markdown",
   "id": "1aad27b3",
   "metadata": {},
   "source": [
    "## 5) Functions\n",
    "\n",
    "Why write functions?\n",
    "- Reuse logic, reduce repetition, write tests, and make your code readable.\n",
    "\n",
    "Key pieces:\n",
    "- `def name(params):` defines a function.\n",
    "- **Docstring** `\"\"\"Describe what it does.\"\"\"` at top of function is helpful.\n",
    "- **Type hints** (optional but recommended): `def add(a: int, b: int) -> int:`"
   ]
  },
  {
   "cell_type": "code",
   "execution_count": null,
   "id": "b0fab764",
   "metadata": {},
   "outputs": [],
   "source": [
    "def add(a: float, b: float) -> float:\n",
    "    \"\"\"Return the sum of a and b.\"\"\"\n",
    "    return a + b\n",
    "\n",
    "print(add(1.5, 2.5))"
   ]
  },
  {
   "cell_type": "markdown",
   "id": "477ce7d2",
   "metadata": {},
   "source": [
    "### ✅ TODO 5 — Write a Function\n",
    "Write a function `is_default_risk(income, debts)` that returns `True` if `debts > income * 0.4`, else `False`.  \n",
    "Add a short docstring and type hints."
   ]
  },
  {
   "cell_type": "code",
   "execution_count": null,
   "id": "a73b4af7",
   "metadata": {},
   "outputs": [],
   "source": [
    "# TODO 5 — Your code here"
   ]
  },
  {
   "cell_type": "markdown",
   "id": "0e72c10a",
   "metadata": {},
   "source": [
    "## 6) Modules & Imports\n",
    "\n",
    "- `import math`\n",
    "- `from math import sqrt`\n",
    "- `import numpy as np` (gives a **short alias** so you type less)\n",
    "\n",
    "> In our project, we’ll often use: `import numpy as np` and `import pandas as pd`"
   ]
  },
  {
   "cell_type": "code",
   "execution_count": null,
   "id": "3c5ac114",
   "metadata": {},
   "outputs": [],
   "source": [
    "import math\n",
    "from math import sqrt\n",
    "print(\"pi:\", math.pi, \"| sqrt(9):\", sqrt(9))"
   ]
  },
  {
   "cell_type": "markdown",
   "id": "ce486401",
   "metadata": {},
   "source": [
    "### ✅ TODO 6 — Try Imports\n",
    "1. Import the `statistics` module.\n",
    "2. Use `statistics.mean([1,2,3,4])`."
   ]
  },
  {
   "cell_type": "code",
   "execution_count": null,
   "id": "823fdfb3",
   "metadata": {},
   "outputs": [],
   "source": [
    "# TODO 6 — Your code here"
   ]
  },
  {
   "cell_type": "markdown",
   "id": "f376cdd4",
   "metadata": {},
   "source": [
    "## 7) Errors & Exceptions\n",
    "\n",
    "- Errors stop execution. Use `try/except` to handle.\n",
    "- `raise ValueError(\"message\")` to signal problems in your own code.\n",
    "- `assert condition, \"message\"` to catch unexpected states during development."
   ]
  },
  {
   "cell_type": "code",
   "execution_count": null,
   "id": "4b73fc7c",
   "metadata": {},
   "outputs": [],
   "source": [
    "def safe_divide(a, b):\n",
    "    try:\n",
    "        return a / b\n",
    "    except ZeroDivisionError:\n",
    "        return float(\"inf\")\n",
    "\n",
    "print(\"10/2 =\", safe_divide(10,2))\n",
    "print(\"10/0 =\", safe_divide(10,0))"
   ]
  },
  {
   "cell_type": "markdown",
   "id": "6c022a1f",
   "metadata": {},
   "source": [
    "### ✅ TODO 7 — Your Turn\n",
    "Write `sqrt_nonneg(x)` that returns `math.sqrt(x)` but **raises** a `ValueError` if `x < 0`."
   ]
  },
  {
   "cell_type": "code",
   "execution_count": null,
   "id": "faad8363",
   "metadata": {},
   "outputs": [],
   "source": [
    "# TODO 7 — Your code here"
   ]
  },
  {
   "cell_type": "markdown",
   "id": "a857ef4e",
   "metadata": {},
   "source": [
    "## 8) NumPy Essentials\n",
    "\n",
    "**What/Why:** NumPy provides fast, memory‑efficient **arrays** and mathematical operations.  \n",
    "We use NumPy for:\n",
    "- numeric arrays and vectorized math\n",
    "- broadcasting (do math across arrays of different shapes)\n",
    "- masking & boolean indexing (filtering)\n",
    "\n",
    "**Core ideas**\n",
    "- Create arrays: `np.array([...])`, `np.arange`, `np.linspace`\n",
    "- Shape: `arr.shape`, data type: `arr.dtype`\n",
    "- Indexing/slicing: `arr[0]`, `arr[1:3]`, multi‑dim: `arr[rows, cols]`\n",
    "- Broadcasting: add arrays of compatible shapes automatically\n",
    "- Masking: boolean arrays to filter values"
   ]
  },
  {
   "cell_type": "code",
   "execution_count": null,
   "id": "8a69ad9b",
   "metadata": {},
   "outputs": [],
   "source": [
    "import numpy as np\n",
    "\n",
    "arr = np.array([1, 2, 3], dtype=np.int64)\n",
    "print(\"arr:\", arr, \"| shape:\", arr.shape, \"| dtype:\", arr.dtype)\n",
    "\n",
    "big = np.arange(0, 10)  # 0..9\n",
    "print(\"big:\", big)\n",
    "print(\"slice big[2:7]:\", big[2:7])\n",
    "\n",
    "# Broadcasting\n",
    "a = np.array([1, 2, 3])\n",
    "b = 10\n",
    "print(\"a + b:\", a + b)\n",
    "\n",
    "# Masking\n",
    "mask = a > 1\n",
    "print(\"mask:\", mask, \"| a[mask]:\", a[mask])"
   ]
  },
  {
   "cell_type": "markdown",
   "id": "c77a739d",
   "metadata": {},
   "source": [
    "### ✅ TODO 8 — Arrays, Shapes, Masks\n",
    "1. Create an array `vals = np.array([100, 250, 400, 50])`.\n",
    "2. Create a mask for values ≥ 200 and print the filtered result.\n",
    "3. Reshape `np.arange(12)` into a 3×4 array and print `row 1, col 2` (0‑based)."
   ]
  },
  {
   "cell_type": "code",
   "execution_count": null,
   "id": "42785bc0",
   "metadata": {},
   "outputs": [],
   "source": [
    "# TODO 8 — Your code here"
   ]
  },
  {
   "cell_type": "markdown",
   "id": "b6aa4994",
   "metadata": {},
   "source": [
    "## 9) Random, Aggregations & Simple Stats\n",
    "\n",
    "- Random: `np.random.default_rng(seed)` then use methods like `.normal`, `.integers`\n",
    "- Aggregations: `np.sum`, `np.mean`, `np.median`, `np.std`, `np.min`, `np.max`"
   ]
  },
  {
   "cell_type": "code",
   "execution_count": null,
   "id": "0eafc1af",
   "metadata": {},
   "outputs": [],
   "source": [
    "rng = np.random.default_rng(42)\n",
    "samples = rng.normal(loc=0, scale=1, size=5)\n",
    "print(\"samples:\", samples)\n",
    "print(\"mean:\", np.mean(samples), \"| std:\", np.std(samples), \"| min:\", np.min(samples), \"| max:\", np.max(samples))"
   ]
  },
  {
   "cell_type": "markdown",
   "id": "0a57a090",
   "metadata": {},
   "source": [
    "### ✅ TODO 9 — Practice Random + Stats\n",
    "1. Create 100 random integers between 300 and 850 (inclusive of 300, exclusive of 851).  \n",
    "2. Compute mean and standard deviation."
   ]
  },
  {
   "cell_type": "code",
   "execution_count": null,
   "id": "09d7a845",
   "metadata": {},
   "outputs": [],
   "source": [
    "# TODO 9 — Your code here"
   ]
  },
  {
   "cell_type": "markdown",
   "id": "6c7e6a6b",
   "metadata": {},
   "source": [
    "## 10) Pandas Essentials\n",
    "\n",
    "Pandas gives you **Series** (1D) and **DataFrames** (2D tables).  \n",
    "We use Pandas to load CSVs, clean data, select/filter rows, create new columns, summarize, and export.\n",
    "\n",
    "**Core operations you'll use a lot:**\n",
    "- Read: `pd.read_csv(\"file.csv\")`\n",
    "- Inspect: `.head()`, `.tail()`, `.shape`, `.info()`, `.describe()`\n",
    "- Select columns: `df[[\"A\",\"B\"]]` or `df[\"A\"]`\n",
    "- Filter rows: `df[df[\"col\"] > 0]`\n",
    "- Create columns: `df[\"new\"] = df[\"old\"] * 2`\n",
    "- Rename: `df.rename(columns={\"Old\":\"New\"}, inplace=True)`"
   ]
  },
  {
   "cell_type": "code",
   "execution_count": null,
   "id": "05eac2b5",
   "metadata": {},
   "outputs": [],
   "source": [
    "import pandas as pd\n",
    "\n",
    "# Tiny demo DataFrame\n",
    "df = pd.DataFrame({\n",
    "    \"Loan ID\":[1,2,3,4],\n",
    "    \"Amount\":[500, 1200, 3000, 250],\n",
    "    \"Status\":[\"Current\", \"Fully Paid\", \"Defaulted\", \"Current\"]\n",
    "})\n",
    "display(df.head())\n",
    "print(\"shape:\", df.shape)\n",
    "df.info()\n",
    "display(df.describe(numeric_only=True))"
   ]
  },
  {
   "cell_type": "markdown",
   "id": "cbffd0bd",
   "metadata": {},
   "source": [
    "### ✅ TODO 10 — Load & Inspect\n",
    "1. Create a DataFrame with columns: `Customer ID`, `Income`, `Debt`, `Home Ownership` (4–5 rows).\n",
    "2. Show `.head()`, `.shape`, `.info()`, `.describe()`."
   ]
  },
  {
   "cell_type": "code",
   "execution_count": null,
   "id": "d65296c6",
   "metadata": {},
   "outputs": [],
   "source": [
    "# TODO 10 — Your code here"
   ]
  },
  {
   "cell_type": "markdown",
   "id": "0c2130c9",
   "metadata": {},
   "source": [
    "## 11) Handling Missing Data, Dtypes, Dates, and String Ops\n",
    "\n",
    "- Missing values use `np.nan` (for numbers) or `pd.NA`.\n",
    "- Detect missing: `df.isna()`, `df[\"col\"].isna()`\n",
    "- Drop missing: `df.dropna(subset=[\"col1\",\"col2\"])`\n",
    "- Fill missing: `df[\"col\"].fillna(value)`\n",
    "- Dtypes: `df.dtypes`, `df[\"col\"] = df[\"col\"].astype(\"int64\")`\n",
    "- Dates: `pd.to_datetime(df[\"when\"])`, then `.dt.year`, `.dt.month`, etc.\n",
    "- Strings: `df[\"col\"].str.upper()`, `.str.strip()`, `.str.contains(\"abc\")`"
   ]
  },
  {
   "cell_type": "code",
   "execution_count": null,
   "id": "4ed6fcd5",
   "metadata": {},
   "outputs": [],
   "source": [
    "df2 = pd.DataFrame({\n",
    "    \"Amount\":[1000, None, 500, 2000],\n",
    "    \"Date\":[\"2024-01-05\", \"2024/02/10\", None, \"03-15-2024\"],\n",
    "    \"Purpose\":[\"debt_consolidation\", \"home\", \"credit_card\", \" car \"]\n",
    "})\n",
    "display(df2)\n",
    "\n",
    "# Fix dates\n",
    "df2[\"Date\"] = pd.to_datetime(df2[\"Date\"], errors=\"coerce\")\n",
    "# Clean strings\n",
    "df2[\"Purpose\"] = df2[\"Purpose\"].str.strip().str.replace(\" \", \"_\")\n",
    "# Handle missing\n",
    "df2[\"Amount_filled\"] = df2[\"Amount\"].fillna(df2[\"Amount\"].median())\n",
    "\n",
    "display(df2)\n",
    "print(df2.dtypes)"
   ]
  },
  {
   "cell_type": "markdown",
   "id": "bd0eb10b",
   "metadata": {},
   "source": [
    "### ✅ TODO 11 — Clean Columns\n",
    "1. Create a DataFrame with a few missing numbers and messy strings (extra spaces/mixed case).\n",
    "2. Use `.fillna()` with median for the numeric column and `.str.strip().str.lower()` for strings.\n",
    "3. Convert a date column to datetime and print the `.dt.year`."
   ]
  },
  {
   "cell_type": "code",
   "execution_count": null,
   "id": "47bcaeb3",
   "metadata": {},
   "outputs": [],
   "source": [
    "# TODO 11 — Your code here"
   ]
  },
  {
   "cell_type": "markdown",
   "id": "428345ea",
   "metadata": {},
   "source": [
    "## 12) GroupBy, Aggregation, Sorting, `value_counts`\n",
    "\n",
    "- Group and summarize: `df.groupby(\"col\")[\"other_col\"].mean()`\n",
    "- Multi‑agg: `.agg([\"mean\",\"median\",\"count\"])` or dict syntax\n",
    "- Sorting: `df.sort_values(\"col\", ascending=False)`\n",
    "- `value_counts()` for frequencies"
   ]
  },
  {
   "cell_type": "code",
   "execution_count": null,
   "id": "909a8ae0",
   "metadata": {},
   "outputs": [],
   "source": [
    "df3 = pd.DataFrame({\n",
    "    \"Home Ownership\":[\"RENT\",\"MORTGAGE\",\"RENT\",\"OWN\",\"RENT\"],\n",
    "    \"Amount\":[500, 1200, 3000, 250, 900]\n",
    "})\n",
    "display(df3)\n",
    "\n",
    "grouped = df3.groupby(\"Home Ownership\")[\"Amount\"].agg([\"count\",\"mean\",\"sum\"])\n",
    "display(grouped.sort_values(\"sum\", ascending=False))\n",
    "\n",
    "display(df3[\"Home Ownership\"].value_counts())"
   ]
  },
  {
   "cell_type": "markdown",
   "id": "83da7100",
   "metadata": {},
   "source": [
    "### ✅ TODO 12 — Summaries\n",
    "1. Using your DataFrame from TODO 10 or 11, compute average `Debt` by `Home Ownership`.\n",
    "2. Show counts of each `Home Ownership` category.\n",
    "3. Sort your table by average `Debt` descending."
   ]
  },
  {
   "cell_type": "code",
   "execution_count": null,
   "id": "7032dbd0",
   "metadata": {},
   "outputs": [],
   "source": [
    "# TODO 12 — Your code here"
   ]
  },
  {
   "cell_type": "markdown",
   "id": "35cf01ef",
   "metadata": {},
   "source": [
    "## 13) Merging / Joining DataFrames\n",
    "\n",
    "- Similar to SQL joins.\n",
    "- `pd.merge(left, right, on=\"key\", how=\"inner\")` where how ∈ {\"inner\",\"left\",\"right\",\"outer\"}\n",
    "\n",
    "Use joins to bring together features from multiple tables."
   ]
  },
  {
   "cell_type": "code",
   "execution_count": null,
   "id": "83385239",
   "metadata": {},
   "outputs": [],
   "source": [
    "customers = pd.DataFrame({\n",
    "    \"Customer ID\":[101,102,103],\n",
    "    \"Income\":[60000, 45000, 80000]\n",
    "})\n",
    "loans = pd.DataFrame({\n",
    "    \"Customer ID\":[101,101,103,104],\n",
    "    \"Amount\":[500, 2500, 1200, 3000]\n",
    "})\n",
    "\n",
    "inner = pd.merge(customers, loans, on=\"Customer ID\", how=\"inner\")\n",
    "left = pd.merge(customers, loans, on=\"Customer ID\", how=\"left\")\n",
    "outer = pd.merge(customers, loans, on=\"Customer ID\", how=\"outer\")\n",
    "\n",
    "print(\"INNER JOIN\")\n",
    "display(inner)\n",
    "print(\"LEFT JOIN\")\n",
    "display(left)\n",
    "print(\"OUTER JOIN\")\n",
    "display(outer)"
   ]
  },
  {
   "cell_type": "markdown",
   "id": "7558f99e",
   "metadata": {},
   "source": [
    "### ✅ TODO 13 — Join Practice\n",
    "1. Create a `customers` table and a separate `scores` table with `Customer ID` and `Credit Score`.\n",
    "2. Left‑join `scores` onto `customers`. Fill missing scores with the mean score."
   ]
  },
  {
   "cell_type": "code",
   "execution_count": null,
   "id": "6ee26c45",
   "metadata": {},
   "outputs": [],
   "source": [
    "# TODO 13 — Your code here"
   ]
  },
  {
   "cell_type": "markdown",
   "id": "a11226cb",
   "metadata": {},
   "source": [
    "## 14) Exporting & Project Tips\n",
    "\n",
    "- Save to CSV: `df.to_csv(\"clean.csv\", index=False)`\n",
    "- Reproducibility:\n",
    "  - Keep a **requirements.txt**\n",
    "  - Use a **virtual environment** (we recommend `pyenv` + `venv` in this project)\n",
    "  - Seed randomness (e.g., `rng = np.random.default_rng(42)`)\n",
    "- Good habits:\n",
    "  - Add comments and short docstrings.\n",
    "  - Write small, testable functions.\n",
    "  - Prefer **clear** over **clever**.\n",
    "\n",
    "### ✅ TODO 14 — Save\n",
    "1. Save any DataFrame you made as `demo_output.csv` (no index).\n",
    "2. Read it back and show its `.head()`."
   ]
  },
  {
   "cell_type": "code",
   "execution_count": null,
   "id": "a1be838f",
   "metadata": {},
   "outputs": [],
   "source": [
    "# TODO 14 — Your code here"
   ]
  },
  {
   "cell_type": "markdown",
   "id": "be3ecdcb",
   "metadata": {},
   "source": [
    "---\n",
    "\n",
    "## You made it! 🎉\n",
    "If anything was confusing, leave a comment **right next to** the cell where you got stuck, and we’ll clarify in the next revision.\n",
    "\n",
    "Next up in this project: EDA on the loan dataset, then preprocessing and modeling."
   ]
  }
 ],
 "metadata": {},
 "nbformat": 4,
 "nbformat_minor": 5
}
