{
 "cells": [
  {
   "cell_type": "code",
   "execution_count": 1,
   "id": "7c210dc2",
   "metadata": {},
   "outputs": [
    {
     "name": "stdout",
     "output_type": "stream",
     "text": [
      "Overwriting requirements.txt\n"
     ]
    }
   ],
   "source": [
    "%%writefile requirements.txt\n",
    "numpy\n",
    "pandas==2.2.3\n",
    "matplotlib==3.10.0"
   ]
  },
  {
   "cell_type": "code",
   "execution_count": 2,
   "id": "21e78d05",
   "metadata": {},
   "outputs": [
    {
     "name": "stdout",
     "output_type": "stream",
     "text": [
      "Requirement already satisfied: numpy in /usr/local/lib/python3.11/site-packages (from -r requirements.txt (line 1)) (2.3.3)\n",
      "Requirement already satisfied: pandas==2.2.3 in /usr/local/lib/python3.11/site-packages (from -r requirements.txt (line 2)) (2.2.3)\n",
      "Requirement already satisfied: matplotlib==3.10.0 in /usr/local/lib/python3.11/site-packages (from -r requirements.txt (line 3)) (3.10.0)\n",
      "Requirement already satisfied: python-dateutil>=2.8.2 in /usr/local/lib/python3.11/site-packages (from pandas==2.2.3->-r requirements.txt (line 2)) (2.9.0.post0)\n",
      "Requirement already satisfied: pytz>=2020.1 in /usr/local/lib/python3.11/site-packages (from pandas==2.2.3->-r requirements.txt (line 2)) (2025.2)\n",
      "Requirement already satisfied: tzdata>=2022.7 in /usr/local/lib/python3.11/site-packages (from pandas==2.2.3->-r requirements.txt (line 2)) (2025.2)\n",
      "Requirement already satisfied: contourpy>=1.0.1 in /usr/local/lib/python3.11/site-packages (from matplotlib==3.10.0->-r requirements.txt (line 3)) (1.3.3)\n",
      "Requirement already satisfied: cycler>=0.10 in /usr/local/lib/python3.11/site-packages (from matplotlib==3.10.0->-r requirements.txt (line 3)) (0.12.1)\n",
      "Requirement already satisfied: fonttools>=4.22.0 in /usr/local/lib/python3.11/site-packages (from matplotlib==3.10.0->-r requirements.txt (line 3)) (4.60.0)\n",
      "Requirement already satisfied: kiwisolver>=1.3.1 in /usr/local/lib/python3.11/site-packages (from matplotlib==3.10.0->-r requirements.txt (line 3)) (1.4.9)\n",
      "Requirement already satisfied: packaging>=20.0 in /usr/local/lib/python3.11/site-packages (from matplotlib==3.10.0->-r requirements.txt (line 3)) (24.0)\n",
      "Requirement already satisfied: pillow>=8 in /usr/local/lib/python3.11/site-packages (from matplotlib==3.10.0->-r requirements.txt (line 3)) (11.3.0)\n",
      "Requirement already satisfied: pyparsing>=2.3.1 in /usr/local/lib/python3.11/site-packages (from matplotlib==3.10.0->-r requirements.txt (line 3)) (3.2.5)\n",
      "Requirement already satisfied: six>=1.5 in /usr/local/lib/python3.11/site-packages (from python-dateutil>=2.8.2->pandas==2.2.3->-r requirements.txt (line 2)) (1.16.0)\n",
      "\n",
      "\u001b[1m[\u001b[0m\u001b[34;49mnotice\u001b[0m\u001b[1;39;49m]\u001b[0m\u001b[39;49m A new release of pip is available: \u001b[0m\u001b[31;49m24.1.2\u001b[0m\u001b[39;49m -> \u001b[0m\u001b[32;49m25.2\u001b[0m\n",
      "\u001b[1m[\u001b[0m\u001b[34;49mnotice\u001b[0m\u001b[1;39;49m]\u001b[0m\u001b[39;49m To update, run: \u001b[0m\u001b[32;49mpython3.11 -m pip install --upgrade pip\u001b[0m\n",
      "Note: you may need to restart the kernel to use updated packages.\n"
     ]
    }
   ],
   "source": [
    "%pip install -r requirements.txt"
   ]
  },
  {
   "cell_type": "code",
   "execution_count": 3,
   "id": "a9db47a5",
   "metadata": {},
   "outputs": [],
   "source": [
    "import numpy as np\n",
    "import pandas as pd\n",
    "import matplotlib.pyplot as plt"
   ]
  },
  {
   "cell_type": "markdown",
   "id": "47f8fd46",
   "metadata": {},
   "source": [
    "First, read in the csv files."
   ]
  },
  {
   "cell_type": "code",
   "execution_count": null,
   "id": "49c9f771",
   "metadata": {},
   "outputs": [],
   "source": [
    "# TODO: Read in credit train and credit test csv"
   ]
  },
  {
   "cell_type": "code",
   "execution_count": null,
   "id": "138d5d84",
   "metadata": {},
   "outputs": [],
   "source": [
    "# TODO: Return the first 5 rows of the train dataframe"
   ]
  },
  {
   "cell_type": "code",
   "execution_count": null,
   "id": "d6e48101",
   "metadata": {},
   "outputs": [],
   "source": [
    "# TODO: Return a summary of the train dataframe"
   ]
  },
  {
   "cell_type": "code",
   "execution_count": null,
   "id": "703a25fb",
   "metadata": {},
   "outputs": [],
   "source": [
    "#Drops duplicates and unnecessary columns\n",
    "df1 = df1.drop_duplicates()\n",
    "df1 = df1.drop(columns=['Loan ID', 'Customer ID'], axis=1)"
   ]
  },
  {
   "cell_type": "markdown",
   "id": "9a5c45fb",
   "metadata": {},
   "source": [
    "Then, handle all null values."
   ]
  },
  {
   "cell_type": "code",
   "execution_count": null,
   "id": "424d4963",
   "metadata": {},
   "outputs": [],
   "source": [
    "# TODO: Check for missing values in the train dataframe (Hint: use isnull().sum())"
   ]
  },
  {
   "cell_type": "code",
   "execution_count": null,
   "id": "56c2688b",
   "metadata": {},
   "outputs": [],
   "source": [
    "# standardize nulls to np.nan, so pandas recognizes them as missing\n",
    "df1.replace(['nan','NaN','NULL','',' '], np.nan, inplace=True)\n",
    "\n",
    "# TODO: Impute missing values (Hint: Use fillna())\n",
    "# Hint: you can use median, mode, mean, or a specific value to fill in missing values\n",
    "df1['Current Loan Amount'].fillna(0, inplace=True)\n",
    "df1['Years of Credit History'].fillna(df1['Years of Credit History'].median(), inplace=True)"
   ]
  },
  {
   "cell_type": "code",
   "execution_count": null,
   "id": "45592a77",
   "metadata": {},
   "outputs": [],
   "source": [
    "# TODO: Check for missing values again to confirm they were filled"
   ]
  },
  {
   "cell_type": "markdown",
   "id": "5b18c4fb",
   "metadata": {},
   "source": [
    "Feature Engineering"
   ]
  },
  {
   "cell_type": "code",
   "execution_count": null,
   "id": "2439b1ac",
   "metadata": {},
   "outputs": [],
   "source": [
    "import re\n",
    "import numpy as np\n",
    "import pandas as pd\n",
    "\n",
    "\n",
    "# 1a) Years in current job: extract numeric and bin\n",
    "def extract_years(s):\n",
    "    s = str(s)\n",
    "    match = re.findall(r'\\d+', s)\n",
    "    if match:\n",
    "        return int(match[0])\n",
    "    return None\n",
    "\n",
    "df1['Years in current job'] = df1['Years in current job'].apply(extract_years)\n",
    "\n",
    "bins = [0, 2, 5, 10, float('inf')]\n",
    "labels = ['0-2', '2-5', '5-10', '10+']\n",
    "df1['Years in current job'] = pd.cut(df1['Years in current job'], bins=bins, labels=labels, right=False)\n",
    "\n",
    "# 1b) Standardize Purpose values to the canonical list used in the reference\n",
    "df1['Purpose'] = df1['Purpose'].replace({\n",
    "    'Home Improvements':'Home Renovation / Improvement',\n",
    "    'Debt Consolidation':'Debt Consolidation',\n",
    "    'Buy House':'Home Purchase / Mortgage',\n",
    "    'Business Loan':'Business / Startup Capital',\n",
    "    'Buy a Car':'Car / Vehicle Purchase',\n",
    "    'Take a Trip':'Vacation / Travel',\n",
    "    'small_business':'Business / Startup Capital',\n",
    "    'Medical Bills':'Medical Expenses',\n",
    "    'wedding':'Wedding Expenses',\n",
    "    'vacation':'Vacation / Travel',\n",
    "    'Educational Expenses':'Education / Tuition Fees',\n",
    "    'moving':'Moving / Relocation Costs',\n",
    "    'other':'Other / Miscellaneous',\n",
    "    'Other':'Other / Miscellaneous',\n",
    "    'renewable_energy':'Buying Electronics / Appliances',\n",
    "    'major_purchase':'Business / Startup Capital'\n",
    "})"
   ]
  },
  {
   "cell_type": "markdown",
   "id": "b0792020",
   "metadata": {},
   "source": [
    "Then, encode the categorical data."
   ]
  },
  {
   "cell_type": "code",
   "execution_count": null,
   "id": "1ecdd4cc",
   "metadata": {},
   "outputs": [],
   "source": [
    "#Separate categorical and numerical columns\n",
    "cat_list = df1.select_dtypes(include='object').columns.tolist()\n",
    "num_list = df1.select_dtypes(exclude='object').columns.tolist()\n",
    "print(\"Categorical:\", cat_list)\n",
    "print(\"Numerical:\", num_list)"
   ]
  },
  {
   "cell_type": "code",
   "execution_count": null,
   "id": "00dca561",
   "metadata": {},
   "outputs": [],
   "source": [
    "from sklearn.preprocessing import OrdinalEncoder, LabelEncoder, OneHotEncoder\n",
    "\n",
    "# 2a) Ordinal encoding for 'Years in current job'\n",
    "od = OrdinalEncoder(categories=[['0-2', '2-5', '5-10', '10+']])\n",
    "df1['Years in current job'] = od.fit_transform(df1[['Years in current job']])\n",
    "\n",
    "# 2b) Label encode simple categories\n",
    "le = LabelEncoder()\n",
    "for col in ['Loan Status', 'Term', 'Home Ownership']:\n",
    "    df1[col] = le.fit_transform(df1[col].fillna('Missing'))\n",
    "\n",
    "# 2c) One-hot encode 'Purpose' \n",
    "# TODO: One-hot encode 'Purpose' (Hint: use OneHotEncoder from sklearn)\n",
    "ohe = \n",
    "purpose_encoded = ohe.fit_transform(df1[['Purpose']].fillna('Missing'))\n",
    "purpose_df = pd.DataFrame(purpose_encoded, columns=ohe.get_feature_names_out(['Purpose']), index=df1.index)\n",
    "df1 = pd.concat([df1.drop('Purpose', axis=1), purpose_df], axis=1)"
   ]
  },
  {
   "cell_type": "markdown",
   "id": "dd67e0f5",
   "metadata": {},
   "source": [
    "Finally, create a train/test split."
   ]
  },
  {
   "cell_type": "code",
   "execution_count": null,
   "id": "d203e465",
   "metadata": {},
   "outputs": [],
   "source": [
    "from sklearn.model_selection import train_test_split\n",
    "from sklearn.preprocessing import StandardScaler\n",
    "\n",
    "# TODO: Create feature matrix X and target vector y\n",
    "\n",
    "# TODO: Create a train/test split (Hint: use train_test_split from sklearn)\n",
    "\n",
    "scaler = StandardScaler()\n",
    "X_train_scaled = scaler.fit_transform(X_train)\n",
    "X_test_scaled = scaler.transform(X_test)"
   ]
  },
  {
   "cell_type": "code",
   "execution_count": null,
   "id": "643d41ee",
   "metadata": {},
   "outputs": [],
   "source": [
    "# Save the processed data to CSV files\n",
    "import pandas as pd\n",
    "\n",
    "X_train_scaled_df = pd.DataFrame(X_train_scaled, columns=X_train.columns)\n",
    "X_test_scaled_df  = pd.DataFrame(X_test_scaled, columns=X_test.columns)\n",
    "\n",
    "X_train_scaled_df.to_csv(\"X_train_scaled.csv\", index=False)\n",
    "X_test_scaled_df.to_csv(\"X_test_scaled.csv\", index=False)\n",
    "\n",
    "y_train.to_csv(\"y_train.csv\", index=False, header=[\"Loan Status\"])\n",
    "y_test.to_csv(\"y_test.csv\", index=False, header=[\"Loan Status\"])"
   ]
  }
 ],
 "metadata": {
  "kernelspec": {
   "display_name": "Python 3",
   "language": "python",
   "name": "python3"
  },
  "language_info": {
   "codemirror_mode": {
    "name": "ipython",
    "version": 3
   },
   "file_extension": ".py",
   "mimetype": "text/x-python",
   "name": "python",
   "nbconvert_exporter": "python",
   "pygments_lexer": "ipython3",
   "version": "3.11.9"
  }
 },
 "nbformat": 4,
 "nbformat_minor": 5
}
